{
 "cells": [
  {
   "cell_type": "markdown",
   "metadata": {},
   "source": [
    "# Extrai Tweets"
   ]
  },
  {
   "cell_type": "code",
   "execution_count": 1,
   "metadata": {
    "scrolled": true
   },
   "outputs": [
    {
     "name": "stdout",
     "output_type": "stream",
     "text": [
      "Requirement already satisfied: tweepy in c:\\anaconda3\\lib\\site-packages (3.9.0)\n",
      "Collecting datetime\n",
      "  Downloading DateTime-4.3-py2.py3-none-any.whl (60 kB)\n",
      "Requirement already satisfied: six>=1.10.0 in c:\\anaconda3\\lib\\site-packages (from tweepy) (1.15.0)\n",
      "Requirement already satisfied: requests[socks]>=2.11.1 in c:\\anaconda3\\lib\\site-packages (from tweepy) (2.24.0)\n",
      "Requirement already satisfied: requests-oauthlib>=0.7.0 in c:\\anaconda3\\lib\\site-packages (from tweepy) (1.3.0)\n",
      "Requirement already satisfied: zope.interface in c:\\anaconda3\\lib\\site-packages (from datetime) (5.1.2)\n",
      "Requirement already satisfied: pytz in c:\\anaconda3\\lib\\site-packages (from datetime) (2020.1)\n",
      "Requirement already satisfied: urllib3!=1.25.0,!=1.25.1,<1.26,>=1.21.1 in c:\\anaconda3\\lib\\site-packages (from requests[socks]>=2.11.1->tweepy) (1.25.11)\n",
      "Requirement already satisfied: idna<3,>=2.5 in c:\\anaconda3\\lib\\site-packages (from requests[socks]>=2.11.1->tweepy) (2.10)\n",
      "Requirement already satisfied: chardet<4,>=3.0.2 in c:\\anaconda3\\lib\\site-packages (from requests[socks]>=2.11.1->tweepy) (3.0.4)\n",
      "Requirement already satisfied: certifi>=2017.4.17 in c:\\anaconda3\\lib\\site-packages (from requests[socks]>=2.11.1->tweepy) (2020.6.20)\n",
      "Requirement already satisfied: PySocks!=1.5.7,>=1.5.6; extra == \"socks\" in c:\\anaconda3\\lib\\site-packages (from requests[socks]>=2.11.1->tweepy) (1.7.1)\n",
      "Requirement already satisfied: oauthlib>=3.0.0 in c:\\anaconda3\\lib\\site-packages (from requests-oauthlib>=0.7.0->tweepy) (3.0.1)\n",
      "Requirement already satisfied: setuptools in c:\\anaconda3\\lib\\site-packages (from zope.interface->datetime) (50.3.1.post20201107)\n",
      "Installing collected packages: datetime\n",
      "Successfully installed datetime-4.3\n"
     ]
    }
   ],
   "source": [
    "!pip install tweepy datetime"
   ]
  },
  {
   "cell_type": "markdown",
   "metadata": {},
   "source": [
    "# Play!"
   ]
  },
  {
   "cell_type": "code",
   "execution_count": 3,
   "metadata": {},
   "outputs": [
    {
     "name": "stdout",
     "output_type": "stream",
     "text": [
      "^C\n"
     ]
    }
   ],
   "source": [
    "!python get_tweets.py"
   ]
  },
  {
   "cell_type": "markdown",
   "metadata": {},
   "source": [
    "# Entendendo a estrutura do JSON"
   ]
  },
  {
   "cell_type": "code",
   "execution_count": 4,
   "metadata": {},
   "outputs": [],
   "source": [
    "import json"
   ]
  },
  {
   "cell_type": "code",
   "execution_count": 5,
   "metadata": {},
   "outputs": [],
   "source": [
    "# Importar o arquivo de tweets e ler as linhas\n",
    "with open('collected_tweets_2020-11-23T23-14-54.txt',\"r\") as file:\n",
    "    tweets = file.readlines()"
   ]
  },
  {
   "cell_type": "code",
   "execution_count": 6,
   "metadata": {
    "scrolled": true
   },
   "outputs": [
    {
     "data": {
      "text/plain": [
       "'\"{\\\\\"created_at\\\\\":\\\\\"Tue Nov 24 02:14:50 +0000 2020\\\\\",\\\\\"id\\\\\":1331058664594137089,\\\\\"id_str\\\\\":\\\\\"1331058664594137089\\\\\",\\\\\"text\\\\\":\\\\\"RT @pnjaban: This is a disgrace and I, for one, will not be dropping this issue. The @Liberty_Ctr focuses on speech issues including this o\\\\\\\\u2026\\\\\",\\\\\"source\\\\\":\\\\\"\\\\\\\\u003ca href=\\\\\\\\\\\\\"http:\\\\\\\\/\\\\\\\\/twitter.com\\\\\\\\/download\\\\\\\\/iphone\\\\\\\\\\\\\" rel=\\\\\\\\\\\\\"nofollow\\\\\\\\\\\\\"\\\\\\\\u003eTwitter for iPhone\\\\\\\\u003c\\\\\\\\/a\\\\\\\\u003e\\\\\",\\\\\"truncated\\\\\":false,\\\\\"in_reply_to_status_id\\\\\":null,\\\\\"in_reply_to_status_id_str\\\\\":null,\\\\\"in_reply_to_user_id\\\\\":null,\\\\\"in_reply_to_user_id_str\\\\\":null,\\\\\"in_reply_to_screen_name\\\\\":null,\\\\\"user\\\\\":{\\\\\"id\\\\\":17848133,\\\\\"id_str\\\\\":\\\\\"17848133\\\\\",\\\\\"name\\\\\":\\\\\"SeeJaneVote\\\\\",\\\\\"screen_name\\\\\":\\\\\"janiedelaney\\\\\",\\\\\"location\\\\\":\\\\\"anytown USA\\\\\",\\\\\"url\\\\\":\\\\\"https:\\\\\\\\/\\\\\\\\/www.facebook.com\\\\\\\\/See-Jane-Vote-2223154677757670\\\\\\\\/?modal=admin_todo_tour\\\\\",\\\\\"description\\\\\":\\\\\"Conservative Mom trying to spread the word. We need to protect our freedom and stop government take over of Education and Medicine - Sick of the #biasedmedia\\\\\",\\\\\"translator_type\\\\\":\\\\\"none\\\\\",\\\\\"protected\\\\\":false,\\\\\"verified\\\\\":false,\\\\\"followers_count\\\\\":7664,\\\\\"friends_count\\\\\":9934,\\\\\"listed_count\\\\\":121,\\\\\"favourites_count\\\\\":79559,\\\\\"statuses_count\\\\\":84674,\\\\\"created_at\\\\\":\\\\\"Wed Dec 03 20:44:50 +0000 2008\\\\\",\\\\\"utc_offset\\\\\":null,\\\\\"time_zone\\\\\":null,\\\\\"geo_enabled\\\\\":false,\\\\\"lang\\\\\":null,\\\\\"contributors_enabled\\\\\":false,\\\\\"is_translator\\\\\":false,\\\\\"profile_background_color\\\\\":\\\\\"3B94D9\\\\\",\\\\\"profile_background_image_url\\\\\":\\\\\"http:\\\\\\\\/\\\\\\\\/abs.twimg.com\\\\\\\\/images\\\\\\\\/themes\\\\\\\\/theme4\\\\\\\\/bg.gif\\\\\",\\\\\"profile_background_image_url_https\\\\\":\\\\\"https:\\\\\\\\/\\\\\\\\/abs.twimg.com\\\\\\\\/images\\\\\\\\/themes\\\\\\\\/theme4\\\\\\\\/bg.gif\\\\\",\\\\\"profile_background_tile\\\\\":false,\\\\\"profile_link_color\\\\\":\\\\\"E81C4F\\\\\",\\\\\"profile_sidebar_border_color\\\\\":\\\\\"CC3366\\\\\",\\\\\"profile_sidebar_fill_color\\\\\":\\\\\"E5507E\\\\\",\\\\\"profile_text_color\\\\\":\\\\\"362720\\\\\",\\\\\"profile_use_background_image\\\\\":true,\\\\\"profile_image_url\\\\\":\\\\\"http:\\\\\\\\/\\\\\\\\/pbs.twimg.com\\\\\\\\/profile_images\\\\\\\\/1266860345790005249\\\\\\\\/IKVM_e07_normal.jpg\\\\\",\\\\\"profile_image_url_https\\\\\":\\\\\"https:\\\\\\\\/\\\\\\\\/pbs.twimg.com\\\\\\\\/profile_images\\\\\\\\/1266860345790005249\\\\\\\\/IKVM_e07_normal.jpg\\\\\",\\\\\"profile_banner_url\\\\\":\\\\\"https:\\\\\\\\/\\\\\\\\/pbs.twimg.com\\\\\\\\/profile_banners\\\\\\\\/17848133\\\\\\\\/1582557600\\\\\",\\\\\"default_profile\\\\\":false,\\\\\"default_profile_image\\\\\":false,\\\\\"following\\\\\":null,\\\\\"follow_request_sent\\\\\":null,\\\\\"notifications\\\\\":null},\\\\\"geo\\\\\":null,\\\\\"coordinates\\\\\":null,\\\\\"place\\\\\":null,\\\\\"contributors\\\\\":null,\\\\\"retweeted_status\\\\\":{\\\\\"created_at\\\\\":\\\\\"Mon Nov 23 17:51:05 +0000 2020\\\\\",\\\\\"id\\\\\":1330931894528008192,\\\\\"id_str\\\\\":\\\\\"1330931894528008192\\\\\",\\\\\"text\\\\\":\\\\\"This is a disgrace and I, for one, will not be dropping this issue. The @Liberty_Ctr focuses on speech issues inclu\\\\\\\\u2026 https:\\\\\\\\/\\\\\\\\/t.co\\\\\\\\/cUOO3Qyl55\\\\\",\\\\\"source\\\\\":\\\\\"\\\\\\\\u003ca href=\\\\\\\\\\\\\"http:\\\\\\\\/\\\\\\\\/twitter.com\\\\\\\\/download\\\\\\\\/iphone\\\\\\\\\\\\\" rel=\\\\\\\\\\\\\"nofollow\\\\\\\\\\\\\"\\\\\\\\u003eTwitter for iPhone\\\\\\\\u003c\\\\\\\\/a\\\\\\\\u003e\\\\\",\\\\\"truncated\\\\\":true,\\\\\"in_reply_to_status_id\\\\\":null,\\\\\"in_reply_to_status_id_str\\\\\":null,\\\\\"in_reply_to_user_id\\\\\":null,\\\\\"in_reply_to_user_id_str\\\\\":null,\\\\\"in_reply_to_screen_name\\\\\":null,\\\\\"user\\\\\":{\\\\\"id\\\\\":201066140,\\\\\"id_str\\\\\":\\\\\"201066140\\\\\",\\\\\"name\\\\\":\\\\\"Harmeet K. Dhillon\\\\\",\\\\\"screen_name\\\\\":\\\\\"pnjaban\\\\\",\\\\\"location\\\\\":\\\\\"San Francisco\\\\\",\\\\\"url\\\\\":\\\\\"http:\\\\\\\\/\\\\\\\\/www.dhillonlaw.com\\\\\",\\\\\"description\\\\\":\\\\\"Founder @Dhillonlaw, @Liberty_Ctr; @GOP Committeewoman from CA, co-chair @TheRepLawyer; opinionated knitter+sailor+hiker+whalespotter; retweets\\\\\\\\u2260endorsements.\\\\\",\\\\\"translator_type\\\\\":\\\\\"none\\\\\",\\\\\"protected\\\\\":false,\\\\\"verified\\\\\":true,\\\\\"followers_count\\\\\":214746,\\\\\"friends_count\\\\\":2054,\\\\\"listed_count\\\\\":831,\\\\\"favourites_count\\\\\":220539,\\\\\"statuses_count\\\\\":70136,\\\\\"created_at\\\\\":\\\\\"Mon Oct 11 00:29:19 +0000 2010\\\\\",\\\\\"utc_offset\\\\\":null,\\\\\"time_zone\\\\\":null,\\\\\"geo_enabled\\\\\":false,\\\\\"lang\\\\\":null,\\\\\"contributors_enabled\\\\\":false,\\\\\"is_translator\\\\\":false,\\\\\"profile_background_color\\\\\":\\\\\"000000\\\\\",\\\\\"profile_background_image_url\\\\\":\\\\\"http:\\\\\\\\/\\\\\\\\/abs.twimg.com\\\\\\\\/images\\\\\\\\/themes\\\\\\\\/theme1\\\\\\\\/bg.png\\\\\",\\\\\"profile_background_image_url_https\\\\\":\\\\\"https:\\\\\\\\/\\\\\\\\/abs.twimg.com\\\\\\\\/images\\\\\\\\/themes\\\\\\\\/theme1\\\\\\\\/bg.png\\\\\",\\\\\"profile_background_tile\\\\\":false,\\\\\"profile_link_color\\\\\":\\\\\"1B95E0\\\\\",\\\\\"profile_sidebar_border_color\\\\\":\\\\\"000000\\\\\",\\\\\"profile_sidebar_fill_color\\\\\":\\\\\"000000\\\\\",\\\\\"profile_text_color\\\\\":\\\\\"000000\\\\\",\\\\\"profile_use_background_image\\\\\":false,\\\\\"profile_image_url\\\\\":\\\\\"http:\\\\\\\\/\\\\\\\\/pbs.twimg.com\\\\\\\\/profile_images\\\\\\\\/1297514736708452354\\\\\\\\/zKkpeJkh_normal.jpg\\\\\",\\\\\"profile_image_url_https\\\\\":\\\\\"https:\\\\\\\\/\\\\\\\\/pbs.twimg.com\\\\\\\\/profile_images\\\\\\\\/1297514736708452354\\\\\\\\/zKkpeJkh_normal.jpg\\\\\",\\\\\"profile_banner_url\\\\\":\\\\\"https:\\\\\\\\/\\\\\\\\/pbs.twimg.com\\\\\\\\/profile_banners\\\\\\\\/201066140\\\\\\\\/1414349080\\\\\",\\\\\"default_profile\\\\\":false,\\\\\"default_profile_image\\\\\":false,\\\\\"following\\\\\":null,\\\\\"follow_request_sent\\\\\":null,\\\\\"notifications\\\\\":null},\\\\\"geo\\\\\":null,\\\\\"coordinates\\\\\":null,\\\\\"place\\\\\":null,\\\\\"contributors\\\\\":null,\\\\\"quoted_status_id\\\\\":1330914138189606913,\\\\\"quoted_status_id_str\\\\\":\\\\\"1330914138189606913\\\\\",\\\\\"quoted_status\\\\\":{\\\\\"created_at\\\\\":\\\\\"Mon Nov 23 16:40:32 +0000 2020\\\\\",\\\\\"id\\\\\":1330914138189606913,\\\\\"id_str\\\\\":\\\\\"1330914138189606913\\\\\",\\\\\"text\\\\\":\\\\\"1. Funny how the American Bar Association, state bars, civil liberties groups, and, of course, the media, say nothi\\\\\\\\u2026 https:\\\\\\\\/\\\\\\\\/t.co\\\\\\\\/e0QMWFzpmG\\\\\",\\\\\"source\\\\\":\\\\\"\\\\\\\\u003ca href=\\\\\\\\\\\\\"http:\\\\\\\\/\\\\\\\\/twitter.com\\\\\\\\/download\\\\\\\\/android\\\\\\\\\\\\\" rel=\\\\\\\\\\\\\"nofollow\\\\\\\\\\\\\"\\\\\\\\u003eTwitter for Android\\\\\\\\u003c\\\\\\\\/a\\\\\\\\u003e\\\\\",\\\\\"truncated\\\\\":true,\\\\\"in_reply_to_status_id\\\\\":null,\\\\\"in_reply_to_status_id_str\\\\\":null,\\\\\"in_reply_to_user_id\\\\\":null,\\\\\"in_reply_to_user_id_str\\\\\":null,\\\\\"in_reply_to_screen_name\\\\\":null,\\\\\"user\\\\\":{\\\\\"id\\\\\":38495835,\\\\\"id_str\\\\\":\\\\\"38495835\\\\\",\\\\\"name\\\\\":\\\\\"Mark R. Levin\\\\\",\\\\\"screen_name\\\\\":\\\\\"marklevinshow\\\\\",\\\\\"location\\\\\":\\\\\"Underground Bunker\\\\\",\\\\\"url\\\\\":\\\\\"http:\\\\\\\\/\\\\\\\\/www.marklevinshow.com\\\\\",\\\\\"description\\\\\":\\\\\"THIS IS THE OFFICIAL MARK LEVIN SHOW TWITTER PAGE. \\\\\\\\nDOWNLOAD MY PODCAST FOR FREE http:\\\\\\\\/\\\\\\\\/www.marklevinshow.com\\\\\\\\/audio-rewind\\\\\",\\\\\"translator_type\\\\\":\\\\\"none\\\\\",\\\\\"protected\\\\\":false,\\\\\"verified\\\\\":true,\\\\\"followers_count\\\\\":2810076,\\\\\"friends_count\\\\\":6,\\\\\"listed_count\\\\\":10847,\\\\\"favourites_count\\\\\":0,\\\\\"statuses_count\\\\\":27192,\\\\\"created_at\\\\\":\\\\\"Thu May 07 19:18:36 +0000 2009\\\\\",\\\\\"utc_offset\\\\\":null,\\\\\"time_zone\\\\\":null,\\\\\"geo_enabled\\\\\":false,\\\\\"lang\\\\\":null,\\\\\"contributors_enabled\\\\\":false,\\\\\"is_translator\\\\\":false,\\\\\"profile_background_color\\\\\":\\\\\"35475B\\\\\",\\\\\"profile_background_image_url\\\\\":\\\\\"http:\\\\\\\\/\\\\\\\\/abs.twimg.com\\\\\\\\/images\\\\\\\\/themes\\\\\\\\/theme1\\\\\\\\/bg.png\\\\\",\\\\\"profile_background_image_url_https\\\\\":\\\\\"https:\\\\\\\\/\\\\\\\\/abs.twimg.com\\\\\\\\/images\\\\\\\\/themes\\\\\\\\/theme1\\\\\\\\/bg.png\\\\\",\\\\\"profile_background_tile\\\\\":false,\\\\\"profile_link_color\\\\\":\\\\\"0013B4\\\\\",\\\\\"profile_sidebar_border_color\\\\\":\\\\\"FFFFFF\\\\\",\\\\\"profile_sidebar_fill_color\\\\\":\\\\\"FFFFFF\\\\\",\\\\\"profile_text_color\\\\\":\\\\\"F00000\\\\\",\\\\\"profile_use_background_image\\\\\":true,\\\\\"profile_image_url\\\\\":\\\\\"http:\\\\\\\\/\\\\\\\\/pbs.twimg.com\\\\\\\\/profile_images\\\\\\\\/378800000116305623\\\\\\\\/80c5515ce8244c85105172fe5640f550_normal.jpeg\\\\\",\\\\\"profile_image_url_https\\\\\":\\\\\"https:\\\\\\\\/\\\\\\\\/pbs.twimg.com\\\\\\\\/profile_images\\\\\\\\/378800000116305623\\\\\\\\/80c5515ce8244c85105172fe5640f550_normal.jpeg\\\\\",\\\\\"profile_banner_url\\\\\":\\\\\"https:\\\\\\\\/\\\\\\\\/pbs.twimg.com\\\\\\\\/profile_banners\\\\\\\\/38495835\\\\\\\\/1559247697\\\\\",\\\\\"default_profile\\\\\":false,\\\\\"default_profile_image\\\\\":false,\\\\\"following\\\\\":null,\\\\\"follow_request_sent\\\\\":null,\\\\\"notifications\\\\\":null},\\\\\"geo\\\\\":null,\\\\\"coordinates\\\\\":null,\\\\\"place\\\\\":null,\\\\\"contributors\\\\\":null,\\\\\"is_quote_status\\\\\":false,\\\\\"extended_tweet\\\\\":{\\\\\"full_text\\\\\":\\\\\"1. Funny how the American Bar Association, state bars, civil liberties groups, and, of course, the media, say nothing and do nothing about all the threats and intimidation efforts unleashed against law firms and individual lawyers representing the Trump campaign.\\\\\",\\\\\"display_text_range\\\\\":[0,263],\\\\\"entities\\\\\":{\\\\\"hashtags\\\\\":[],\\\\\"urls\\\\\":[],\\\\\"user_mentions\\\\\":[],\\\\\"symbols\\\\\":[]}},\\\\\"quote_count\\\\\":319,\\\\\"reply_count\\\\\":412,\\\\\"retweet_count\\\\\":6580,\\\\\"favorite_count\\\\\":20249,\\\\\"entities\\\\\":{\\\\\"hashtags\\\\\":[],\\\\\"urls\\\\\":[{\\\\\"url\\\\\":\\\\\"https:\\\\\\\\/\\\\\\\\/t.co\\\\\\\\/e0QMWFzpmG\\\\\",\\\\\"expanded_url\\\\\":\\\\\"https:\\\\\\\\/\\\\\\\\/twitter.com\\\\\\\\/i\\\\\\\\/web\\\\\\\\/status\\\\\\\\/1330914138189606913\\\\\",\\\\\"display_url\\\\\":\\\\\"twitter.com\\\\\\\\/i\\\\\\\\/web\\\\\\\\/status\\\\\\\\/1\\\\\\\\u2026\\\\\",\\\\\"indices\\\\\":[117,140]}],\\\\\"user_mentions\\\\\":[],\\\\\"symbols\\\\\":[]},\\\\\"favorited\\\\\":false,\\\\\"retweeted\\\\\":false,\\\\\"filter_level\\\\\":\\\\\"low\\\\\",\\\\\"lang\\\\\":\\\\\"en\\\\\"},\\\\\"quoted_status_permalink\\\\\":{\\\\\"url\\\\\":\\\\\"https:\\\\\\\\/\\\\\\\\/t.co\\\\\\\\/eI7V3h889F\\\\\",\\\\\"expanded\\\\\":\\\\\"https:\\\\\\\\/\\\\\\\\/twitter.com\\\\\\\\/marklevinshow\\\\\\\\/status\\\\\\\\/1330914138189606913\\\\\",\\\\\"display\\\\\":\\\\\"twitter.com\\\\\\\\/marklevinshow\\\\\\\\/\\\\\\\\u2026\\\\\"},\\\\\"is_quote_status\\\\\":true,\\\\\"extended_tweet\\\\\":{\\\\\"full_text\\\\\":\\\\\"This is a disgrace and I, for one, will not be dropping this issue. The @Liberty_Ctr focuses on speech issues including this one.\\\\\",\\\\\"display_text_range\\\\\":[0,129],\\\\\"entities\\\\\":{\\\\\"hashtags\\\\\":[],\\\\\"urls\\\\\":[],\\\\\"user_mentions\\\\\":[{\\\\\"screen_name\\\\\":\\\\\"Liberty_Ctr\\\\\",\\\\\"name\\\\\":\\\\\"Center for American Liberty\\\\\",\\\\\"id\\\\\":1146954758579580928,\\\\\"id_str\\\\\":\\\\\"1146954758579580928\\\\\",\\\\\"indices\\\\\":[72,84]}],\\\\\"symbols\\\\\":[]}},\\\\\"quote_count\\\\\":15,\\\\\"reply_count\\\\\":22,\\\\\"retweet_count\\\\\":320,\\\\\"favorite_count\\\\\":1051,\\\\\"entities\\\\\":{\\\\\"hashtags\\\\\":[],\\\\\"urls\\\\\":[{\\\\\"url\\\\\":\\\\\"https:\\\\\\\\/\\\\\\\\/t.co\\\\\\\\/cUOO3Qyl55\\\\\",\\\\\"expanded_url\\\\\":\\\\\"https:\\\\\\\\/\\\\\\\\/twitter.com\\\\\\\\/i\\\\\\\\/web\\\\\\\\/status\\\\\\\\/1330931894528008192\\\\\",\\\\\"display_url\\\\\":\\\\\"twitter.com\\\\\\\\/i\\\\\\\\/web\\\\\\\\/status\\\\\\\\/1\\\\\\\\u2026\\\\\",\\\\\"indices\\\\\":[117,140]}],\\\\\"user_mentions\\\\\":[{\\\\\"screen_name\\\\\":\\\\\"Liberty_Ctr\\\\\",\\\\\"name\\\\\":\\\\\"Center for American Liberty\\\\\",\\\\\"id\\\\\":1146954758579580928,\\\\\"id_str\\\\\":\\\\\"1146954758579580928\\\\\",\\\\\"indices\\\\\":[72,84]}],\\\\\"symbols\\\\\":[]},\\\\\"favorited\\\\\":false,\\\\\"retweeted\\\\\":false,\\\\\"filter_level\\\\\":\\\\\"low\\\\\",\\\\\"lang\\\\\":\\\\\"en\\\\\"},\\\\\"quoted_status_id\\\\\":1330914138189606913,\\\\\"quoted_status_id_str\\\\\":\\\\\"1330914138189606913\\\\\",\\\\\"quoted_status\\\\\":{\\\\\"created_at\\\\\":\\\\\"Mon Nov 23 16:40:32 +0000 2020\\\\\",\\\\\"id\\\\\":1330914138189606913,\\\\\"id_str\\\\\":\\\\\"1330914138189606913\\\\\",\\\\\"text\\\\\":\\\\\"1. Funny how the American Bar Association, state bars, civil liberties groups, and, of course, the media, say nothi\\\\\\\\u2026 https:\\\\\\\\/\\\\\\\\/t.co\\\\\\\\/e0QMWFzpmG\\\\\",\\\\\"source\\\\\":\\\\\"\\\\\\\\u003ca href=\\\\\\\\\\\\\"http:\\\\\\\\/\\\\\\\\/twitter.com\\\\\\\\/download\\\\\\\\/android\\\\\\\\\\\\\" rel=\\\\\\\\\\\\\"nofollow\\\\\\\\\\\\\"\\\\\\\\u003eTwitter for Android\\\\\\\\u003c\\\\\\\\/a\\\\\\\\u003e\\\\\",\\\\\"truncated\\\\\":true,\\\\\"in_reply_to_status_id\\\\\":null,\\\\\"in_reply_to_status_id_str\\\\\":null,\\\\\"in_reply_to_user_id\\\\\":null,\\\\\"in_reply_to_user_id_str\\\\\":null,\\\\\"in_reply_to_screen_name\\\\\":null,\\\\\"user\\\\\":{\\\\\"id\\\\\":38495835,\\\\\"id_str\\\\\":\\\\\"38495835\\\\\",\\\\\"name\\\\\":\\\\\"Mark R. Levin\\\\\",\\\\\"screen_name\\\\\":\\\\\"marklevinshow\\\\\",\\\\\"location\\\\\":\\\\\"Underground Bunker\\\\\",\\\\\"url\\\\\":\\\\\"http:\\\\\\\\/\\\\\\\\/www.marklevinshow.com\\\\\",\\\\\"description\\\\\":\\\\\"THIS IS THE OFFICIAL MARK LEVIN SHOW TWITTER PAGE. \\\\\\\\nDOWNLOAD MY PODCAST FOR FREE http:\\\\\\\\/\\\\\\\\/www.marklevinshow.com\\\\\\\\/audio-rewind\\\\\",\\\\\"translator_type\\\\\":\\\\\"none\\\\\",\\\\\"protected\\\\\":false,\\\\\"verified\\\\\":true,\\\\\"followers_count\\\\\":2810076,\\\\\"friends_count\\\\\":6,\\\\\"listed_count\\\\\":10847,\\\\\"favourites_count\\\\\":0,\\\\\"statuses_count\\\\\":27192,\\\\\"created_at\\\\\":\\\\\"Thu May 07 19:18:36 +0000 2009\\\\\",\\\\\"utc_offset\\\\\":null,\\\\\"time_zone\\\\\":null,\\\\\"geo_enabled\\\\\":false,\\\\\"lang\\\\\":null,\\\\\"contributors_enabled\\\\\":false,\\\\\"is_translator\\\\\":false,\\\\\"profile_background_color\\\\\":\\\\\"35475B\\\\\",\\\\\"profile_background_image_url\\\\\":\\\\\"http:\\\\\\\\/\\\\\\\\/abs.twimg.com\\\\\\\\/images\\\\\\\\/themes\\\\\\\\/theme1\\\\\\\\/bg.png\\\\\",\\\\\"profile_background_image_url_https\\\\\":\\\\\"https:\\\\\\\\/\\\\\\\\/abs.twimg.com\\\\\\\\/images\\\\\\\\/themes\\\\\\\\/theme1\\\\\\\\/bg.png\\\\\",\\\\\"profile_background_tile\\\\\":false,\\\\\"profile_link_color\\\\\":\\\\\"0013B4\\\\\",\\\\\"profile_sidebar_border_color\\\\\":\\\\\"FFFFFF\\\\\",\\\\\"profile_sidebar_fill_color\\\\\":\\\\\"FFFFFF\\\\\",\\\\\"profile_text_color\\\\\":\\\\\"F00000\\\\\",\\\\\"profile_use_background_image\\\\\":true,\\\\\"profile_image_url\\\\\":\\\\\"http:\\\\\\\\/\\\\\\\\/pbs.twimg.com\\\\\\\\/profile_images\\\\\\\\/378800000116305623\\\\\\\\/80c5515ce8244c85105172fe5640f550_normal.jpeg\\\\\",\\\\\"profile_image_url_https\\\\\":\\\\\"https:\\\\\\\\/\\\\\\\\/pbs.twimg.com\\\\\\\\/profile_images\\\\\\\\/378800000116305623\\\\\\\\/80c5515ce8244c85105172fe5640f550_normal.jpeg\\\\\",\\\\\"profile_banner_url\\\\\":\\\\\"https:\\\\\\\\/\\\\\\\\/pbs.twimg.com\\\\\\\\/profile_banners\\\\\\\\/38495835\\\\\\\\/1559247697\\\\\",\\\\\"default_profile\\\\\":false,\\\\\"default_profile_image\\\\\":false,\\\\\"following\\\\\":null,\\\\\"follow_request_sent\\\\\":null,\\\\\"notifications\\\\\":null},\\\\\"geo\\\\\":null,\\\\\"coordinates\\\\\":null,\\\\\"place\\\\\":null,\\\\\"contributors\\\\\":null,\\\\\"is_quote_status\\\\\":false,\\\\\"extended_tweet\\\\\":{\\\\\"full_text\\\\\":\\\\\"1. Funny how the American Bar Association, state bars, civil liberties groups, and, of course, the media, say nothing and do nothing about all the threats and intimidation efforts unleashed against law firms and individual lawyers representing the Trump campaign.\\\\\",\\\\\"display_text_range\\\\\":[0,263],\\\\\"entities\\\\\":{\\\\\"hashtags\\\\\":[],\\\\\"urls\\\\\":[],\\\\\"user_mentions\\\\\":[],\\\\\"symbols\\\\\":[]}},\\\\\"quote_count\\\\\":319,\\\\\"reply_count\\\\\":412,\\\\\"retweet_count\\\\\":6580,\\\\\"favorite_count\\\\\":20249,\\\\\"entities\\\\\":{\\\\\"hashtags\\\\\":[],\\\\\"urls\\\\\":[{\\\\\"url\\\\\":\\\\\"https:\\\\\\\\/\\\\\\\\/t.co\\\\\\\\/e0QMWFzpmG\\\\\",\\\\\"expanded_url\\\\\":\\\\\"https:\\\\\\\\/\\\\\\\\/twitter.com\\\\\\\\/i\\\\\\\\/web\\\\\\\\/status\\\\\\\\/1330914138189606913\\\\\",\\\\\"display_url\\\\\":\\\\\"twitter.com\\\\\\\\/i\\\\\\\\/web\\\\\\\\/status\\\\\\\\/1\\\\\\\\u2026\\\\\",\\\\\"indices\\\\\":[117,140]}],\\\\\"user_mentions\\\\\":[],\\\\\"symbols\\\\\":[]},\\\\\"favorited\\\\\":false,\\\\\"retweeted\\\\\":false,\\\\\"filter_level\\\\\":\\\\\"low\\\\\",\\\\\"lang\\\\\":\\\\\"en\\\\\"},\\\\\"quoted_status_permalink\\\\\":{\\\\\"url\\\\\":\\\\\"https:\\\\\\\\/\\\\\\\\/t.co\\\\\\\\/eI7V3h889F\\\\\",\\\\\"expanded\\\\\":\\\\\"https:\\\\\\\\/\\\\\\\\/twitter.com\\\\\\\\/marklevinshow\\\\\\\\/status\\\\\\\\/1330914138189606913\\\\\",\\\\\"display\\\\\":\\\\\"twitter.com\\\\\\\\/marklevinshow\\\\\\\\/\\\\\\\\u2026\\\\\"},\\\\\"is_quote_status\\\\\":true,\\\\\"quote_count\\\\\":0,\\\\\"reply_count\\\\\":0,\\\\\"retweet_count\\\\\":0,\\\\\"favorite_count\\\\\":0,\\\\\"entities\\\\\":{\\\\\"hashtags\\\\\":[],\\\\\"urls\\\\\":[],\\\\\"user_mentions\\\\\":[{\\\\\"screen_name\\\\\":\\\\\"pnjaban\\\\\",\\\\\"name\\\\\":\\\\\"Harmeet K. Dhillon\\\\\",\\\\\"id\\\\\":201066140,\\\\\"id_str\\\\\":\\\\\"201066140\\\\\",\\\\\"indices\\\\\":[3,11]},{\\\\\"screen_name\\\\\":\\\\\"Liberty_Ctr\\\\\",\\\\\"name\\\\\":\\\\\"Center for American Liberty\\\\\",\\\\\"id\\\\\":1146954758579580928,\\\\\"id_str\\\\\":\\\\\"1146954758579580928\\\\\",\\\\\"indices\\\\\":[85,97]}],\\\\\"symbols\\\\\":[]},\\\\\"favorited\\\\\":false,\\\\\"retweeted\\\\\":false,\\\\\"filter_level\\\\\":\\\\\"low\\\\\",\\\\\"lang\\\\\":\\\\\"en\\\\\",\\\\\"timestamp_ms\\\\\":\\\\\"1606184090170\\\\\"}\\\\r\\\\n\"\\n'"
      ]
     },
     "execution_count": 6,
     "metadata": {},
     "output_type": "execute_result"
    }
   ],
   "source": [
    "# Printar apenas o primeiro tweet capturado\n",
    "tweets[0]"
   ]
  },
  {
   "cell_type": "code",
   "execution_count": 9,
   "metadata": {},
   "outputs": [],
   "source": [
    "# Salvar o conteudo do primeiro tweet para um arquivo json\n",
    "with open('tweet.json','w') as arquivo:\n",
    "    json.dump(\n",
    "        json.loads(\n",
    "            json.loads(tweets[0])\n",
    "        ),arquivo\n",
    "    )"
   ]
  },
  {
   "cell_type": "code",
   "execution_count": null,
   "metadata": {},
   "outputs": [],
   "source": []
  }
 ],
 "metadata": {
  "kernelspec": {
   "display_name": "Python 3",
   "language": "python",
   "name": "python3"
  },
  "language_info": {
   "codemirror_mode": {
    "name": "ipython",
    "version": 3
   },
   "file_extension": ".py",
   "mimetype": "text/x-python",
   "name": "python",
   "nbconvert_exporter": "python",
   "pygments_lexer": "ipython3",
   "version": "3.8.5"
  }
 },
 "nbformat": 4,
 "nbformat_minor": 4
}
